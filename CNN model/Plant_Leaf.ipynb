{
 "cells": [
  {
   "cell_type": "code",
   "execution_count": 1,
   "metadata": {
    "colab": {
     "base_uri": "https://localhost:8080/",
     "height": 747
    },
    "colab_type": "code",
    "id": "B9XR2lRUPtQG",
    "outputId": "eb72ecae-3d07-48f9-ae50-4f8d59846be1"
   },
   "outputs": [
    {
     "name": "stderr",
     "output_type": "stream",
     "text": [
      "ERROR: Invalid requirement: \"'tensorflow-hub\"\n"
     ]
    }
   ],
   "source": [
    "# # Install nightly package for some functionalities that aren't in alpha\n",
    "#!pip install tensorflow-gpu==2.0.0-beta1\n",
    "\n",
    "# Install TF Hub for TF2\n",
    "!pip install 'tensorflow-hub == 0.5'\n"
   ]
  },
  {
   "cell_type": "code",
   "execution_count": 2,
   "metadata": {
    "colab": {},
    "colab_type": "code",
    "id": "f_hZVquWBx9b"
   },
   "outputs": [
    {
     "name": "stderr",
     "output_type": "stream",
     "text": [
      "C:\\Users\\sailw\\anaconda3\\lib\\site-packages\\tensorboard\\compat\\tensorflow_stub\\dtypes.py:541: FutureWarning: Passing (type, 1) or '1type' as a synonym of type is deprecated; in a future version of numpy, it will be understood as (type, (1,)) / '(1,)type'.\n",
      "  _np_qint8 = np.dtype([(\"qint8\", np.int8, 1)])\n",
      "C:\\Users\\sailw\\anaconda3\\lib\\site-packages\\tensorboard\\compat\\tensorflow_stub\\dtypes.py:542: FutureWarning: Passing (type, 1) or '1type' as a synonym of type is deprecated; in a future version of numpy, it will be understood as (type, (1,)) / '(1,)type'.\n",
      "  _np_quint8 = np.dtype([(\"quint8\", np.uint8, 1)])\n",
      "C:\\Users\\sailw\\anaconda3\\lib\\site-packages\\tensorboard\\compat\\tensorflow_stub\\dtypes.py:543: FutureWarning: Passing (type, 1) or '1type' as a synonym of type is deprecated; in a future version of numpy, it will be understood as (type, (1,)) / '(1,)type'.\n",
      "  _np_qint16 = np.dtype([(\"qint16\", np.int16, 1)])\n",
      "C:\\Users\\sailw\\anaconda3\\lib\\site-packages\\tensorboard\\compat\\tensorflow_stub\\dtypes.py:544: FutureWarning: Passing (type, 1) or '1type' as a synonym of type is deprecated; in a future version of numpy, it will be understood as (type, (1,)) / '(1,)type'.\n",
      "  _np_quint16 = np.dtype([(\"quint16\", np.uint16, 1)])\n",
      "C:\\Users\\sailw\\anaconda3\\lib\\site-packages\\tensorboard\\compat\\tensorflow_stub\\dtypes.py:545: FutureWarning: Passing (type, 1) or '1type' as a synonym of type is deprecated; in a future version of numpy, it will be understood as (type, (1,)) / '(1,)type'.\n",
      "  _np_qint32 = np.dtype([(\"qint32\", np.int32, 1)])\n",
      "C:\\Users\\sailw\\anaconda3\\lib\\site-packages\\tensorboard\\compat\\tensorflow_stub\\dtypes.py:550: FutureWarning: Passing (type, 1) or '1type' as a synonym of type is deprecated; in a future version of numpy, it will be understood as (type, (1,)) / '(1,)type'.\n",
      "  np_resource = np.dtype([(\"resource\", np.ubyte, 1)])\n"
     ]
    }
   ],
   "source": [
    "from __future__ import absolute_import, division, print_function, unicode_literals\n",
    "\n",
    "\n",
    "import tensorflow as tf\n",
    "#tf.logging.set_verbosity(tf.logging.ERROR)\n",
    "#tf.enable_eager_execution()\n",
    "\n",
    "import tensorflow_hub as hub\n",
    "import os\n",
    "from tensorflow.keras.layers import Dense, Flatten, Conv2D\n",
    "from tensorflow.keras import Model\n",
    "from tensorflow.keras.preprocessing.image import ImageDataGenerator\n",
    "from tensorflow.keras.optimizers import Adam\n",
    "from tensorflow.keras import layers\n",
    "#from keras import optimizers\n",
    "\n",
    "\n"
   ]
  },
  {
   "cell_type": "code",
   "execution_count": 3,
   "metadata": {
    "colab": {
     "base_uri": "https://localhost:8080/",
     "height": 87
    },
    "colab_type": "code",
    "id": "eoKSWDje_6z0",
    "outputId": "f5a70d78-c747-497d-c051-2aaf878beaae",
    "scrolled": true
   },
   "outputs": [
    {
     "name": "stdout",
     "output_type": "stream",
     "text": [
      "Version:  2.4.0-dev20200910\n",
      "Eager mode:  True\n",
      "Hub version:  0.9.0\n",
      "WARNING:tensorflow:From <ipython-input-3-2a1459e67cca>:6: is_gpu_available (from tensorflow.python.framework.test_util) is deprecated and will be removed in a future version.\n",
      "Instructions for updating:\n",
      "Use `tf.config.list_physical_devices('GPU')` instead.\n",
      "GPU is NOT AVAILABLE\n"
     ]
    }
   ],
   "source": [
    "# verify TensorFlow version\n",
    "\n",
    "print(\"Version: \", tf.__version__)\n",
    "print(\"Eager mode: \", tf.executing_eagerly())\n",
    "print(\"Hub version: \", hub.__version__)\n",
    "print(\"GPU is\", \"available\" if tf.test.is_gpu_available() else \"NOT AVAILABLE\")\n"
   ]
  },
  {
   "cell_type": "code",
   "execution_count": 4,
   "metadata": {
    "colab": {
     "base_uri": "https://localhost:8080/",
     "height": 52
    },
    "colab_type": "code",
    "id": "YG5Hzp83Ezb0",
    "outputId": "d8b90d6d-6962-4f48-8d32-5b9645025b68"
   },
   "outputs": [],
   "source": [
    "zip_file = \"C:\\\\Users\\\\sailw\\\\Desktop\\\\Plant Disease\\\\original dataset\\\\\"\n"
   ]
  },
  {
   "cell_type": "code",
   "execution_count": 5,
   "metadata": {
    "colab": {},
    "colab_type": "code",
    "id": "PhB3buj3OoKP"
   },
   "outputs": [
    {
     "name": "stdout",
     "output_type": "stream",
     "text": [
      "C:\\Users\\sailw\\Desktop\\Plant Disease\\original dataset\\PlantVillage\\train\n"
     ]
    }
   ],
   "source": [
    "data_dir = os.path.join(os.path.dirname(zip_file), 'PlantVillage')\n",
    "train_dir = os.path.join(data_dir, 'train')\n",
    "validation_dir = os.path.join(data_dir, 'validation')\n",
    "\n",
    "print(train_dir)"
   ]
  },
  {
   "cell_type": "code",
   "execution_count": 6,
   "metadata": {
    "colab": {},
    "colab_type": "code",
    "id": "bDUxGnMdkmE8"
   },
   "outputs": [],
   "source": [
    "import time\n",
    "import os\n",
    "from os.path import exists\n",
    "\n",
    "def count(dir, counter=0):\n",
    "    \"returns number of files in dir and subdirs\"\n",
    "    for pack in os.walk(dir):\n",
    "        for f in pack[2]:\n",
    "            counter += 1\n",
    "    return dir + \" : \" + str(counter) + \"files\"\n"
   ]
  },
  {
   "cell_type": "code",
   "execution_count": 7,
   "metadata": {
    "colab": {
     "base_uri": "https://localhost:8080/",
     "height": 52
    },
    "colab_type": "code",
    "id": "lwFeDj4ughkE",
    "outputId": "a520134d-c352-4ea6-fbcb-c0b7fc781b43",
    "scrolled": true
   },
   "outputs": [
    {
     "name": "stdout",
     "output_type": "stream",
     "text": [
      "total images for training : C:\\Users\\sailw\\Desktop\\Plant Disease\\original dataset\\PlantVillage\\train : 70295files\n",
      "total images for validation : C:\\Users\\sailw\\Desktop\\Plant Disease\\original dataset\\PlantVillage\\validation : 17572files\n"
     ]
    }
   ],
   "source": [
    "print('total images for training :', count(train_dir))\n",
    "print('total images for validation :', count(validation_dir))\n"
   ]
  },
  {
   "cell_type": "code",
   "execution_count": 8,
   "metadata": {},
   "outputs": [],
   "source": [
    "classes = ['Apple scab', 'Apple Black rot', 'Apple Cedar rust', 'Apple healthy', \n",
    "           'Blueberry healthy','Cherry healthy','Cherry Powdery mildew','Corn Cercospora Gray leaf spot',\n",
    "           'Corn Common rust','Corn healthy','Corn Northern Leaf Blight',  'Grape Black rot','Grape Esca Black Measles',\n",
    "           'Grape healthy',  'Grape Leaf blight Isariopsis','Orange Haunglongbing Citrus greening',\n",
    "           'Peach Bacterial spot', 'Peach healthy','Pepper bell Bacterial spot', 'Pepper bell healthy', \n",
    "           'Potato Early blight', 'Potato healthy','Potato Late blight', 'Raspberry healthy', 'Soybean healthy', \n",
    "           'Squash Powdery mildew','Strawberry healthy','Strawberry Leaf scorch', 'Tomato Bacterial spot', \n",
    "           'Tomato Early blight','Tomato healthy', 'Tomato Late blight', 'Tomato Leaf Mold','Tomato Septoria leaf spot',\n",
    "           'Tomato Two spotted spider mite', 'Tomato Target Spot','Tomato mosaic virus', 'Tomato Yellow Leaf Curl Virus']"
   ]
  },
  {
   "cell_type": "code",
   "execution_count": 9,
   "metadata": {
    "colab": {
     "base_uri": "https://localhost:8080/",
     "height": 34
    },
    "colab_type": "code",
    "id": "hzILXef8Um5v",
    "outputId": "c5599d0b-9b58-4018-f7ce-176458aa0400"
   },
   "outputs": [
    {
     "name": "stdout",
     "output_type": "stream",
     "text": [
      "Number of classes: 38\n"
     ]
    }
   ],
   "source": [
    "print('Number of classes:',len(classes))"
   ]
  },
  {
   "cell_type": "markdown",
   "metadata": {
    "colab_type": "text",
    "id": "5VeSPT_J0otV"
   },
   "source": [
    "###Setup Image shape and  batch size"
   ]
  },
  {
   "cell_type": "code",
   "execution_count": 10,
   "metadata": {
    "colab": {},
    "colab_type": "code",
    "id": "lyCAYjNT09ja"
   },
   "outputs": [],
   "source": [
    "\n",
    "\n",
    "IMAGE_SHAPE = (224, 224)\n",
    "\n",
    "BATCH_SIZE = 64 #@param {type:\"integer\"}"
   ]
  },
  {
   "cell_type": "code",
   "execution_count": 11,
   "metadata": {
    "colab": {
     "base_uri": "https://localhost:8080/",
     "height": 52
    },
    "colab_type": "code",
    "id": "JRrsFKez6fFf",
    "outputId": "1ab28223-17f0-490c-907b-d616fb406a0f"
   },
   "outputs": [
    {
     "name": "stdout",
     "output_type": "stream",
     "text": [
      "Found 17572 images belonging to 38 classes.\n",
      "Found 70295 images belonging to 38 classes.\n"
     ]
    }
   ],
   "source": [
    "# Inputs are suitably resized for the selected module. Dataset augmentation (i.e., random distortions of an image each time it is read) improves training, esp. when fine-tuning.\n",
    "\n",
    "validation_datagen = tf.keras.preprocessing.image.ImageDataGenerator(rescale=1./255)\n",
    "validation_generator = validation_datagen.flow_from_directory(\n",
    "    validation_dir, \n",
    "    shuffle=False, \n",
    "    seed=42,\n",
    "    color_mode=\"rgb\", \n",
    "    class_mode=\"categorical\",\n",
    "    target_size=IMAGE_SHAPE,\n",
    "    batch_size=BATCH_SIZE)\n",
    "\n",
    "do_data_augmentation = True #@param {type:\"boolean\"}\n",
    "if do_data_augmentation:\n",
    "  train_datagen = tf.keras.preprocessing.image.ImageDataGenerator(\n",
    "      rescale = 1./255,\n",
    "      rotation_range=40,\n",
    "      horizontal_flip=True,\n",
    "      width_shift_range=0.2, \n",
    "      height_shift_range=0.2,\n",
    "      shear_range=0.2, \n",
    "      zoom_range=0.2,\n",
    "      fill_mode='nearest' )\n",
    "else:\n",
    "  train_datagen = validation_datagen\n",
    "  \n",
    "train_generator = train_datagen.flow_from_directory(\n",
    "    train_dir, \n",
    "    subset=\"training\", \n",
    "    shuffle=True, \n",
    "    seed=42,\n",
    "    color_mode=\"rgb\", \n",
    "    class_mode=\"categorical\",\n",
    "    target_size=IMAGE_SHAPE,\n",
    "    batch_size=BATCH_SIZE)\n",
    "#https://tfhub.dev/google/tf2-preview/mobilenet_v2/feature_vector/4"
   ]
  },
  {
   "cell_type": "code",
   "execution_count": 12,
   "metadata": {
    "colab": {},
    "colab_type": "code",
    "id": "igEMU_ip7lnC"
   },
   "outputs": [
    {
     "name": "stdout",
     "output_type": "stream",
     "text": [
      "WARNING:tensorflow:From /opt/anaconda3/lib/python3.7/site-packages/tensorflow/python/ops/init_ops.py:1251: calling VarianceScaling.__init__ (from tensorflow.python.ops.init_ops) with dtype is deprecated and will be removed in a future version.\n",
      "Instructions for updating:\n",
      "Call initializer instance with the dtype argument instead of passing it to the constructor\n"
     ]
    },
    {
     "name": "stderr",
     "output_type": "stream",
     "text": [
      "WARNING:tensorflow:From /opt/anaconda3/lib/python3.7/site-packages/tensorflow/python/ops/init_ops.py:1251: calling VarianceScaling.__init__ (from tensorflow.python.ops.init_ops) with dtype is deprecated and will be removed in a future version.\n",
      "Instructions for updating:\n",
      "Call initializer instance with the dtype argument instead of passing it to the constructor\n"
     ]
    }
   ],
   "source": [
    "\n",
    "model = tf.keras.Sequential([\n",
    "  hub.KerasLayer(\"https://tfhub.dev/google/tf2-preview/mobilenet_v2/feature_vector/3\", \n",
    "                 output_shape=[1280],\n",
    "                 trainable=False),\n",
    "  tf.keras.layers.Dropout(0.4),\n",
    "  tf.keras.layers.Dense(512, activation='relu'),\n",
    "  tf.keras.layers.Dropout(rate=0.2),\n",
    "  tf.keras.layers.Dense(train_generator.num_classes, activation='softmax')\n",
    "])\n"
   ]
  },
  {
   "cell_type": "code",
   "execution_count": 13,
   "metadata": {
    "colab": {},
    "colab_type": "code",
    "id": "cq5rzR-vV7tn"
   },
   "outputs": [],
   "source": [
    "#Compile model specifying the optimizer learning rate\n",
    "\n",
    "LEARNING_RATE = 0.001 #@param {type:\"number\"}\n",
    "\n",
    "model.compile(\n",
    "   optimizer=tf.keras.optimizers.Adam(lr=LEARNING_RATE), \n",
    "   loss='categorical_crossentropy',\n",
    "   metrics=['accuracy'])\n",
    "\n"
   ]
  },
  {
   "cell_type": "code",
   "execution_count": 14,
   "metadata": {},
   "outputs": [],
   "source": [
    "#print(model.summary())"
   ]
  },
  {
   "cell_type": "code",
   "execution_count": 15,
   "metadata": {
    "colab": {
     "base_uri": "https://localhost:8080/",
     "height": 463
    },
    "colab_type": "code",
    "id": "Cf1FVwyCRI8o",
    "outputId": "c63d14c1-04b9-4a0d-a87e-241e94a7149a"
   },
   "outputs": [
    {
     "name": "stdout",
     "output_type": "stream",
     "text": [
      "Epoch 1/10\n",
      "1098/1098 [==============================] - 1371s 1s/step - loss: 0.7275 - acc: 0.6752 - val_loss: 0.3066 - val_acc: 0.9017\n",
      "Epoch 2/10\n",
      "1098/1098 [==============================] - 1349s 1s/step - loss: 0.4554 - acc: 0.8478 - val_loss: 0.2699 - val_acc: 0.9113\n",
      "Epoch 3/10\n",
      "1098/1098 [==============================] - 1334s 1s/step - loss: 0.4156 - acc: 0.8625 - val_loss: 0.2330 - val_acc: 0.9238\n",
      "Epoch 4/10\n",
      "1098/1098 [==============================] - 1310s 1s/step - loss: 0.3898 - acc: 0.8697 - val_loss: 0.2143 - val_acc: 0.9299\n",
      "Epoch 5/10\n",
      "1098/1098 [==============================] - 1313s 1s/step - loss: 0.3776 - acc: 0.8743 - val_loss: 0.2190 - val_acc: 0.9264\n",
      "Epoch 6/10\n",
      "1098/1098 [==============================] - 1323s 1s/step - loss: 0.3610 - acc: 0.8791 - val_loss: 0.2073 - val_acc: 0.9301\n",
      "Epoch 7/10\n",
      "1098/1098 [==============================] - 1324s 1s/step - loss: 0.3578 - acc: 0.8833 - val_loss: 0.2203 - val_acc: 0.9270\n",
      "Epoch 8/10\n",
      "1098/1098 [==============================] - 1328s 1s/step - loss: 0.3496 - acc: 0.8845 - val_loss: 0.1954 - val_acc: 0.9364\n",
      "Epoch 9/10\n",
      "1098/1098 [==============================] - 1327s 1s/step - loss: 0.3432 - acc: 0.8906 - val_loss: 0.1912 - val_acc: 0.9369\n",
      "Epoch 10/10\n",
      "1098/1098 [==============================] - 1330s 1s/step - loss: 0.3449 - acc: 0.8900 - val_loss: 0.1846 - val_acc: 0.9389\n"
     ]
    }
   ],
   "source": [
    "\n",
    "EPOCHS=10 #@param {type:\"integer\"}\n",
    "\n",
    "history = model.fit_generator(\n",
    "        train_generator,\n",
    "        steps_per_epoch=train_generator.samples//train_generator.batch_size,\n",
    "        epochs=EPOCHS,\n",
    "        validation_data=validation_generator,\n",
    "        validation_steps=validation_generator.samples//validation_generator.batch_size)"
   ]
  },
  {
   "cell_type": "code",
   "execution_count": 16,
   "metadata": {},
   "outputs": [
    {
     "name": "stdout",
     "output_type": "stream",
     "text": [
      "['Apple Black rot', 'Apple Cedar rust', 'Apple healthy', 'Apple scab', 'Blueberry healthy', 'Cherry Powdery mildew', 'Cherry healthy', 'Corn Cercospora Gray leaf spot', 'Corn Common rust', 'Corn Northern Leaf Blight', 'Corn healthy', 'Grape Black rot', 'Grape Esca (Black Measles)', 'Grape Leaf blight (Isariopsis Leaf Spot)', 'Grape healthy', 'Orange Haunglongbing (Citrus greening)', 'Peach Bacterial spot', 'Peach healthy', 'Pepper bell Bacterial spot', 'Pepper bell healthy', 'Potato Early blight', 'Potato Late blight', 'Potato healthy', 'Raspberry healthy', 'Soybean healthy', 'Squash Powdery mildew', 'Strawberry Leaf scorch', 'Strawberry healthy', 'Tomato Bacterial spot', 'Tomato Early blight', 'Tomato Late blight', 'Tomato Leaf Mold', 'Tomato Septoria leaf spot', 'Tomato Target Spot', 'Tomato Two spotted spider mite', 'Tomato Yellow Leaf Curl Virus', 'Tomato healthy', 'Tomato mosaic virus']\n",
      "[[493   0   1 ...   0   0   0]\n",
      " [  5 423   1 ...   0   0   1]\n",
      " [  1   0 482 ...   0   0   0]\n",
      " ...\n",
      " [  0   0   0 ... 453   0   6]\n",
      " [  0   0   0 ...   0 445   4]\n",
      " [  0   0   0 ...   0   2 422]]\n"
     ]
    }
   ],
   "source": [
    "import numpy as np\n",
    "from sklearn.metrics import confusion_matrix,classification_report\n",
    "\n",
    "predictions = model.predict_generator(validation_generator,  17572 // BATCH_SIZE+1)\n",
    "\n",
    "y_pred = np.argmax(predictions, axis=1)\n",
    "\n",
    "true_classes = validation_generator.classes\n",
    "\n",
    "class_labels = list(validation_generator.class_indices.keys())   \n",
    "\n",
    "print(class_labels)\n",
    "\n",
    "print(confusion_matrix(validation_generator.classes, y_pred))\n",
    "\n",
    "\n"
   ]
  },
  {
   "cell_type": "code",
   "execution_count": 17,
   "metadata": {},
   "outputs": [
    {
     "name": "stdout",
     "output_type": "stream",
     "text": [
      "                                          precision    recall  f1-score   support\n",
      "\n",
      "                         Apple Black rot       0.93      0.99      0.96       497\n",
      "                        Apple Cedar rust       0.98      0.96      0.97       440\n",
      "                           Apple healthy       0.97      0.96      0.96       502\n",
      "                              Apple scab       0.95      0.93      0.94       504\n",
      "                       Blueberry healthy       0.97      0.98      0.98       454\n",
      "                   Cherry Powdery mildew       0.99      0.97      0.98       421\n",
      "                          Cherry healthy       0.98      0.99      0.98       456\n",
      "          Corn Cercospora Gray leaf spot       0.96      0.86      0.91       410\n",
      "                        Corn Common rust       0.98      1.00      0.99       477\n",
      "               Corn Northern Leaf Blight       0.89      0.95      0.92       477\n",
      "                            Corn healthy       1.00      1.00      1.00       465\n",
      "                         Grape Black rot       0.98      0.96      0.97       472\n",
      "              Grape Esca (Black Measles)       0.96      0.99      0.97       480\n",
      "Grape Leaf blight (Isariopsis Leaf Spot)       0.99      1.00      0.99       430\n",
      "                           Grape healthy       1.00      0.99      0.99       423\n",
      "  Orange Haunglongbing (Citrus greening)       0.98      1.00      0.99       503\n",
      "                    Peach Bacterial spot       0.93      0.98      0.96       459\n",
      "                           Peach healthy       0.94      1.00      0.97       432\n",
      "              Pepper bell Bacterial spot       0.90      0.97      0.93       478\n",
      "                     Pepper bell healthy       0.96      0.94      0.95       497\n",
      "                     Potato Early blight       0.98      0.96      0.97       485\n",
      "                      Potato Late blight       0.90      0.94      0.92       485\n",
      "                          Potato healthy       0.97      0.88      0.93       456\n",
      "                       Raspberry healthy       0.96      0.99      0.97       445\n",
      "                         Soybean healthy       0.94      0.97      0.95       505\n",
      "                   Squash Powdery mildew       0.99      1.00      0.99       434\n",
      "                  Strawberry Leaf scorch       1.00      0.99      0.99       444\n",
      "                      Strawberry healthy       0.99      0.93      0.96       456\n",
      "                   Tomato Bacterial spot       0.84      0.95      0.89       425\n",
      "                     Tomato Early blight       0.90      0.68      0.78       480\n",
      "                      Tomato Late blight       0.85      0.89      0.87       463\n",
      "                        Tomato Leaf Mold       0.88      0.91      0.89       470\n",
      "               Tomato Septoria leaf spot       0.80      0.81      0.80       436\n",
      "                      Tomato Target Spot       0.77      0.76      0.76       457\n",
      "          Tomato Two spotted spider mite       0.88      0.81      0.84       435\n",
      "           Tomato Yellow Leaf Curl Virus       0.99      0.92      0.96       490\n",
      "                          Tomato healthy       0.92      0.93      0.92       481\n",
      "                     Tomato mosaic virus       0.88      0.94      0.91       448\n",
      "\n",
      "                                accuracy                           0.94     17572\n",
      "                               macro avg       0.94      0.94      0.94     17572\n",
      "                            weighted avg       0.94      0.94      0.94     17572\n",
      "\n"
     ]
    }
   ],
   "source": [
    "report = classification_report(true_classes, y_pred, target_names=class_labels)\n",
    "print(report)"
   ]
  },
  {
   "cell_type": "code",
   "execution_count": 18,
   "metadata": {},
   "outputs": [],
   "source": [
    "conf_mat = confusion_matrix(validation_generator.classes, y_pred)"
   ]
  },
  {
   "cell_type": "code",
   "execution_count": 19,
   "metadata": {},
   "outputs": [],
   "source": [
    "import numpy as np\n",
    "import pandas as pd\n",
    "\n",
    "df = pd.DataFrame(data=conf_mat)\n",
    "df.to_csv('outfile.csv', sep=' ', header=False,index=False)"
   ]
  },
  {
   "cell_type": "code",
   "execution_count": 20,
   "metadata": {},
   "outputs": [
    {
     "data": {
      "text/plain": [
       "['loss', 'acc']"
      ]
     },
     "execution_count": 20,
     "metadata": {},
     "output_type": "execute_result"
    }
   ],
   "source": [
    "model.metrics_names"
   ]
  },
  {
   "cell_type": "code",
   "execution_count": 21,
   "metadata": {},
   "outputs": [
    {
     "data": {
      "text/plain": [
       "<Figure size 700x400 with 1 Axes>"
      ]
     },
     "metadata": {},
     "output_type": "display_data"
    }
   ],
   "source": [
    "import matplotlib.pylab as plt\n",
    "import numpy as np\n",
    "plt.figure(figsize=(7,4))\n",
    "plt.plot([i+1 for i in range(EPOCHS)],history.history['acc'],'-o',c='k',lw=2)\n",
    "plt.grid(True)\n",
    "plt.title(\"Training accuracy with epoches\\n\",fontsize=18)\n",
    "plt.xlabel(\"Training epoches\",fontsize=15)\n",
    "plt.ylabel(\"Training accuracy\",fontsize=15)\n",
    "plt.xticks(fontsize=15)\n",
    "plt.yticks(fontsize=15)\n",
    "plt.show()"
   ]
  },
  {
   "cell_type": "code",
   "execution_count": 22,
   "metadata": {},
   "outputs": [
    {
     "data": {
      "image/png": "[encoded data removed]",
      "text/plain": [
       "<Figure size 504x288 with 1 Axes>"
      ]
     },
     "metadata": {
      "needs_background": "light"
     },
     "output_type": "display_data"
    }
   ],
   "source": [
    "plt.figure(figsize=(7,4))\n",
    "plt.plot([i+1 for i in range(EPOCHS)],history.history['loss'],'-o',c='k',lw=2)\n",
    "plt.grid(True)\n",
    "plt.title(\"Training loss with epoches\\n\",fontsize=18)\n",
    "plt.xlabel(\"Training epoches\",fontsize=15)\n",
    "plt.ylabel(\"Training loss\",fontsize=15)\n",
    "plt.xticks(fontsize=15)\n",
    "plt.yticks(fontsize=15)\n",
    "plt.show()"
   ]
  },
  {
   "cell_type": "code",
   "execution_count": 23,
   "metadata": {
    "colab": {
     "base_uri": "https://localhost:8080/",
     "height": 512
    },
    "colab_type": "code",
    "id": "QUPxHwHC3Gy_",
    "outputId": "456536a0-57f8-40bd-82f4-758d4f4d7da8"
   },
   "outputs": [
    {
     "data": {
      "image/png": "[encoded data removed]",
      "text/plain": [
       "<Figure size 576x576 with 2 Axes>"
      ]
     },
     "metadata": {
      "needs_background": "light"
     },
     "output_type": "display_data"
    }
   ],
   "source": [
    "import matplotlib.pylab as plt\n",
    "import numpy as np\n",
    "\n",
    "acc = history.history['acc']\n",
    "val_acc = history.history['val_acc']\n",
    "\n",
    "loss = history.history['loss']\n",
    "val_loss = history.history['val_loss']\n",
    "\n",
    "epochs_range = range(EPOCHS)\n",
    "\n",
    "plt.figure(figsize=(8, 8))\n",
    "plt.subplot(1, 2, 1)\n",
    "plt.plot(epochs_range, acc, label='Training Accuracy')\n",
    "plt.plot(epochs_range, val_acc, label='Validation Accuracy')\n",
    "plt.legend(loc='lower right')\n",
    "plt.title('Training and Validation Accuracy')\n",
    "plt.ylabel(\"Accuracy (training and validation)\")\n",
    "plt.xlabel(\"Training Steps\")\n",
    "\n",
    "plt.subplot(1, 2, 2)\n",
    "plt.plot(epochs_range, loss, label='Training Loss')\n",
    "plt.plot(epochs_range, val_loss, label='Validation Loss')\n",
    "plt.legend(loc='upper right')\n",
    "plt.title('Training and Validation Loss')\n",
    "plt.ylabel(\"Loss (training and validation)\")\n",
    "plt.xlabel(\"Training Steps\")\n",
    "plt.show()"
   ]
  },
  {
   "cell_type": "code",
   "execution_count": 26,
   "metadata": {},
   "outputs": [],
   "source": [
    "model.save(\"path\")"
   ]
  },
  {
   "cell_type": "code",
   "execution_count": null,
   "metadata": {},
   "outputs": [],
   "source": []
  }
 ],
 "metadata": {
  "accelerator": "GPU",
  "colab": {
   "collapsed_sections": [],
   "include_colab_link": true,
   "name": "Plant Diseases Detection with TF2  V4.ipynb",
   "provenance": [],
   "toc_visible": true,
   "version": "0.3.2"
  },
  "kernelspec": {
   "display_name": "Python 3",
   "language": "python",
   "name": "python3"
  },
  "language_info": {
   "codemirror_mode": {
    "name": "ipython",
    "version": 3
   },
   "file_extension": ".py",
   "mimetype": "text/x-python",
   "name": "python",
   "nbconvert_exporter": "python",
   "pygments_lexer": "ipython3",
   "version": "3.7.6"
  }
 },
 "nbformat": 4,
 "nbformat_minor": 1
}
