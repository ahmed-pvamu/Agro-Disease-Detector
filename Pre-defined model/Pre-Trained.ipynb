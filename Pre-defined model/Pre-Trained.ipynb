{
 "cells": [
  {
   "cell_type": "code",
   "execution_count": 78,
   "metadata": {},
   "outputs": [
    {
     "name": "stdout",
     "output_type": "stream",
     "text": [
      "WARNING:tensorflow:No training configuration found in the save file, so the model was *not* compiled. Compile it manually.\n",
      "Enter Path :C:\\Users\\sailw\\Desktop\\Plant Disease\\original dataset\\PlantVillage\\validation\\Tomato___Tomato_Yellow_Leaf_Curl_Virus\\37338a4a-c04f-4cc7-bc36-d3deb78c95a9___UF.GRC_YLCV_Lab 03336.JPG\n",
      "WARNING:tensorflow:11 out of the last 11 calls to <function Model.make_predict_function.<locals>.predict_function at 0x00000214EA06FB88> triggered tf.function retracing. Tracing is expensive and the excessive number of tracings could be due to (1) creating @tf.function repeatedly in a loop, (2) passing tensors with different shapes, (3) passing Python objects instead of tensors. For (1), please define your @tf.function outside of the loop. For (2), @tf.function has experimental_relax_shapes=True option that relaxes argument shapes that can avoid unnecessary retracing. For (3), please refer to https://www.tensorflow.org/tutorials/customization/performance#python_or_tensor_args and https://www.tensorflow.org/api_docs/python/tf/function for  more details.\n",
      "\n",
      "Output :\n",
      "This image most likely belongs to Tomato Yellow Leaf Curl Virus with a 100.00 percent confidence.Elapsed 0.00006240 seconds.\n"
     ]
    }
   ],
   "source": [
    "import tensorflow.keras\n",
    "from PIL import Image, ImageOps\n",
    "import numpy as np\n",
    "\n",
    "\n",
    "class_na = ['Apple scab', 'Apple Black rot', 'Apple Cedar rust', 'Apple healthy', 'Blueberry healthy',\n",
    "            'Cherry healthy','Cherry Powdery mildew',  \n",
    "            'Corn Cercospora Gray leaf spot', 'Corn Common rust', \n",
    "            'Corn healthy','Corn Northern Leaf Blight',  'Grape Black rot', \n",
    "            'Grape Esca Black Measles','Grape healthy',  'Grape Leaf blight Isariopsis', \n",
    "            'Orange Haunglongbing Citrus greening', 'Peach Bacterial spot', 'Peach healthy', \n",
    "            'Pepper bell Bacterial spot', 'Pepper bell healthy', 'Potato Early blight', 'Potato healthy',\n",
    "            'Potato Late blight', 'Raspberry healthy', 'Soybean healthy', 'Squash Powdery mildew', \n",
    "            'Strawberry healthy','Strawberry Leaf scorch', 'Tomato Bacterial spot', 'Tomato Early blight', \n",
    "            'Tomato healthy', 'Tomato Late blight', 'Tomato Leaf Mold', \n",
    "            'Tomato Septoria leaf spot', 'Tomato Two spotted spider mite', 'Tomato Target Spot',\n",
    "            'Tomato mosaic virus', 'Tomato Yellow Leaf Curl Virus']\n",
    "\n",
    "# Disable scientific notation for clarity\n",
    "np.set_printoptions(suppress=True)\n",
    "\n",
    "# Load the model\n",
    "model = tensorflow.keras.models.load_model('C:\\\\Users\\\\sailw\\\\Desktop\\\\Plant Disease\\\\model.h5')\n",
    "\n",
    "# Create the array of the right shape to feed into the keras model\n",
    "# The 'length' or number of images you can put into the array is\n",
    "# determined by the first position in the shape tuple, in this case 1.\n",
    "data = np.ndarray(shape=(1, 224, 224, 3), dtype=np.float32)\n",
    "\n",
    "# Replace this with the path to your image\n",
    "img_path = input(\"Enter Path :\")\n",
    "image = Image.open(img_path)\n",
    "\n",
    "#resize the image to a 224x224 with the same strategy as in TM2:\n",
    "#resizing the image to be at least 224x224 and then cropping from the center\n",
    "size = (224, 224)\n",
    "image = ImageOps.fit(image, size, Image.ANTIALIAS)\n",
    "\n",
    "#turn the image into a numpy array\n",
    "image_array = np.asarray(image)\n",
    "\n",
    "# display the resized image\n",
    "# image.show()\n",
    "\n",
    "# Normalize the image\n",
    "normalized_image_array = (image_array.astype(np.float32) / 127.0) - 1\n",
    "\n",
    "# Load the image into the array\n",
    "data[0] = normalized_image_array\n",
    "\n",
    "import time\n",
    "start = time.perf_counter()\n",
    "\n",
    "# run the inference\n",
    "prediction = model.predict(data)\n",
    "print(\"\\nOutput :\")\n",
    "#print(class_na[np.argmax(prediction)])\n",
    "import time\n",
    "start = time.perf_counter()\n",
    "\n",
    "elapsed = time.perf_counter() - start\n",
    "#print('Elapsed %.3f seconds.' % elapsed)\n",
    "print(\n",
    "    \"This image most likely belongs to {} with a {:.2f} percent confidence.Elapsed {:.8f} seconds.\"\n",
    "    .format(class_na[np.argmax(prediction)], 100 * np.max(prediction), elapsed)\n",
    ")\n",
    "#print('Elapsed %.8f seconds.' % elapsed)"
   ]
  },
  {
   "cell_type": "code",
   "execution_count": null,
   "metadata": {},
   "outputs": [],
   "source": []
  }
 ],
 "metadata": {
  "kernelspec": {
   "display_name": "Python 3",
   "language": "python",
   "name": "python3"
  },
  "language_info": {
   "codemirror_mode": {
    "name": "ipython",
    "version": 3
   },
   "file_extension": ".py",
   "mimetype": "text/x-python",
   "name": "python",
   "nbconvert_exporter": "python",
   "pygments_lexer": "ipython3",
   "version": "3.7.6"
  }
 },
 "nbformat": 4,
 "nbformat_minor": 4
}
